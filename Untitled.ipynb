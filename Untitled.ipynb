{
 "cells": [
  {
   "cell_type": "code",
   "execution_count": null,
   "metadata": {},
   "outputs": [],
   "source": [
    "from google.colab import drive\n",
    "drive.mount('/content/drive')"
   ]
  },
  {
   "cell_type": "code",
   "execution_count": null,
   "metadata": {},
   "outputs": [],
   "source": [
    "ls"
   ]
  },
  {
   "cell_type": "code",
   "execution_count": null,
   "metadata": {},
   "outputs": [],
   "source": [
    "import os\n",
    "import sys\n",
    "\n",
    "import numpy as np\n",
    "import pandas as pd\n",
    "\n",
    "sys.modules['tensorflow'] = None\n",
    "\n",
    "def load_fashionmnist():\n",
    "    # 学習データ\n",
    "    x_train = np.load('drive/My Drive/Colab Notebooks/DLBasics2021_colab/Lecture_20210415/data/x_train.npy')\n",
    "    y_train = np.load('drive/My Drive/Colab Notebooks/DLBasics2021_colab/Lecture_20210415/data/y_train.npy')\n",
    "    \n",
    "    # テストデータ\n",
    "    x_test = np.load('drive/My Drive/Colab Notebooks/DLBasics2021_colab/Lecture_20210415/data/x_test.npy')\n",
    "    \n",
    "    x_train = x_train.reshape(-1, 784).astype('float32') / 255\n",
    "    y_train = np.eye(10)[y_train.astype('int32')]\n",
    "    x_test = x_test.reshape(-1, 784).astype('float32') / 255\n",
    "    \n",
    "    return x_train, y_train, x_test"
   ]
  },
  {
   "cell_type": "code",
   "execution_count": null,
   "metadata": {},
   "outputs": [],
   "source": [
    "x_train, y_train, x_test = load_fashionmnist()\n",
    "\n",
    "from sklearn.metrics import accuracy_score\n",
    "from sklearn.model_selection import train_test_split\n",
    "\n",
    "def softmax(x):\n",
    "    x -= x.max(axis=1, keepdims=True)\n",
    "    x_exp = np.exp(x)\n",
    "    return x_exp / np.sum(x_exp, axis=1, keepdims=True)\n",
    "\n",
    "\n",
    "def np_log(x):\n",
    "    return np.log(np.clip(a=x, a_min=1e-10, a_max=1e+10))\n",
    "\n",
    "W = np.random.uniform(low=-0.08, high=0.08, size=(784, 10)).astype('float32')# WRITE ME\n",
    "b = np.zeros(shape=(10,)).astype('float32') # WRITE ME\n",
    "\n",
    "x_train, x_valid, y_train, y_valid = train_test_split(x_train, y_train, test_size=0.1)\n",
    "\n",
    "def train(x, t, eps=0.80):\n",
    "    global W, b\n",
    "    batch_size = x.shape[0]\n",
    "    y_hat = softmax(np.matmul(x, W) + b) #predict\n",
    "\n",
    "    cost = (- t * np_log(y_hat)).sum(axis=1).mean()\n",
    "    delta = y_hat - t\n",
    "\n",
    "    # パラメータの更新\n",
    "    dW = np.matmul(x.T, delta) / batch_size # shape: (入力の次元数, 出力の次元数)\n",
    "    db = np.matmul(np.ones(shape=(batch_size,)), delta) / batch_size # shape: (出力の次元数,)\n",
    "    W -= eps * dW\n",
    "    b -= eps * db\n",
    "\n",
    "    return cost\n",
    "\n",
    "\n",
    "def valid(x, t):\n",
    "    y_hat = softmax(np.matmul(x, W) + b)\n",
    "    cost = ( - t * np_log (y_hat)).sum(axis = 1).mean()\n",
    "    \n",
    "    return cost, y_hat \n",
    "\n",
    "\n",
    "for epoch in range(180):\n",
    "    cost = train(x_train, y_train)\n",
    "    cost, y_pred = valid(x_valid, y_valid)\n",
    "    if epoch % 10 == 9 or epoch == 0:\n",
    "        print('EPOCH: {}, Valid Cost: {:.3f}, Valid Accuracy: {:.3f}'.format(\n",
    "            epoch + 1,\n",
    "            cost,\n",
    "            accuracy_score(y_valid.argmax(axis=1), y_pred.argmax(axis=1))\n",
    "        ))\n",
    "\n",
    "y_pred = softmax(np.matmul(x_test, W) + b)\n",
    "y_pred = y_pred.argmax(axis=1)\n",
    "\n",
    "submission = pd.Series(y_pred, name='label')\n",
    "submission.to_csv('drive/My Drive/Colab Notebooks/DLBasics2021_colab/Lecture_20210415/submission_pred.csv', header=True, index_label='id')"
   ]
  },
  {
   "cell_type": "code",
   "execution_count": null,
   "metadata": {},
   "outputs": [],
   "source": []
  }
 ],
 "metadata": {
  "kernelspec": {
   "display_name": "Python 3",
   "language": "python",
   "name": "python3"
  },
  "language_info": {
   "codemirror_mode": {
    "name": "ipython",
    "version": 3
   },
   "file_extension": ".py",
   "mimetype": "text/x-python",
   "name": "python",
   "nbconvert_exporter": "python",
   "pygments_lexer": "ipython3",
   "version": "3.8.5"
  }
 },
 "nbformat": 4,
 "nbformat_minor": 4
}
